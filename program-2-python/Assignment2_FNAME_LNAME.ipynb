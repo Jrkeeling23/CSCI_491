{
  "nbformat": 4,
  "nbformat_minor": 0,
  "metadata": {
    "colab": {
      "name": "Assignment2.ipynb",
      "version": "0.3.2",
      "provenance": [],
      "collapsed_sections": []
    },
    "kernelspec": {
      "name": "python3",
      "display_name": "Python 3"
    }
  },
  "cells": [
    {
      "metadata": {
        "id": "Uz1md-bu_f5H",
        "colab_type": "text"
      },
      "cell_type": "markdown",
      "source": [
        "# Assignment 2"
      ]
    },
    {
      "metadata": {
        "id": "6zTUuvCQ_bPO",
        "colab_type": "text"
      },
      "cell_type": "markdown",
      "source": [
        "**Analyzing Protein-protein interactions**\n",
        "\n",
        "In this assignment, you will write a python module that loads and analyzes protein-protein interaction data.\n",
        "\n",
        "Your first task is to load interaction data stored in a file. The file is simply a list of pairs of proteins that interact with each other. More specifically, it is what is called a comma-delimited file, or CSV. Here are the first two lines of our example file:\n",
        "\n",
        "  \n",
        "7493928\t O88643\tP60953\n",
        "\n",
        "7493928\tO88643\tP63000\n",
        "\n",
        "\n",
        "Each line has the format:  pubmed_id \\t protein_a \\t protein_b. Ignore the first column for this assignment.\n",
        "\n",
        "This indicates that protein_a interacts with protein_b.\n",
        "\n",
        "In writing your code, use the \"bc2_ips_pmid2ppi_train.txt\" given."
      ]
    },
    {
      "metadata": {
        "id": "HIKxsb4kAT7e",
        "colab_type": "text"
      },
      "cell_type": "markdown",
      "source": [
        "**Part 1: the naive implementation (70%)**\n",
        "\n",
        "Write the following functions:  \n",
        "* load_interactions(file_name): this function should return a list of tuples, where each element in the list is an interaction, and each element in the tuple is the identifier of a protein. For the above example, the return value should be a list of length two: [('O88643','P60953'), ('O88643','P63000')]\n",
        "* interact(interactions, id1, id2): This function receives the IDs of two proteins and returns True if they appear in the given interaction dataset, and False otherwise. Make sure that your function returns the same value regardless of the order in which the proteins are provided.\n",
        "* get_interactions(interactions, id). This function returns the IDs of all the proteins with which the protein with the given ID interacts with in the given interaction dataset.\n",
        "* average_interactions(interactions). Returns the average number of interactions per protein in the given set of interactions."
      ]
    },
    {
      "metadata": {
        "id": "KEANiX1qsHG1",
        "colab_type": "code",
        "colab": {}
      },
      "cell_type": "code",
      "source": [
        "#run this cell for uploading the data file.\n",
        "from google.colab import files\n",
        "uploaded = files.upload()"
      ],
      "execution_count": 0,
      "outputs": []
    },
    {
      "metadata": {
        "id": "F-_HlTv_FfN3",
        "colab_type": "code",
        "colab": {
          "base_uri": "https://localhost:8080/",
          "height": 34
        },
        "outputId": "b3cbb0ce-a92a-44f3-8055-2854f897691c"
      },
      "cell_type": "code",
      "source": [
        "#Write your code here for Part 1. You are welcome to add more cells.\n",
        "import os\n",
        "print(os.path.exists(\"bc2_ips_pmid2ppi_train.txt\")) #Will print \"False\" if the file is not uploaded by first running the above cell."
      ],
      "execution_count": 12,
      "outputs": [
        {
          "output_type": "stream",
          "text": [
            "True\n"
          ],
          "name": "stdout"
        }
      ]
    },
    {
      "metadata": {
        "id": "attqSLHXEBsm",
        "colab_type": "code",
        "colab": {}
      },
      "cell_type": "code",
      "source": [
        "### DON'T MODIFY THIS CELL. USED FOR GRADING. ###\n",
        "interactions = load_interactions('bc2_ips_pmid2ppi_train.txt')\n",
        "\n",
        "protein1 = 'YPL094C' \n",
        "protein2 = 'YPR086W' \n",
        "\n",
        "print(\"do \" + protein1 + \" protein \" + protein2 + \"interact? \" + interact(interactions, protein1, protein2)) \n",
        "print (\"the number of interactions of \" + protein1 + \" : \" + str(len(get_interactions(interactions, protein1)))) \n",
        "print(\"the average number of interactions per protein: \" + str(average_interactions(interactions)))"
      ],
      "execution_count": 0,
      "outputs": []
    },
    {
      "metadata": {
        "id": "wHAWWrOdFwrU",
        "colab_type": "text"
      },
      "cell_type": "markdown",
      "source": [
        "**Part 2: representing the network using dictionaries (30%)**\n",
        "\n",
        "In the second part of the assignment, rewrite your code using dictionaries by now representing the set of interactions associated with a protein using a python dictionary. This will make your code much faster, as you will no longer need to search the list of interactions using a for loop.  Write functions corresponding to the four functions above (append \"2\" to all the function names, see below). "
      ]
    },
    {
      "metadata": {
        "id": "i6jn85x8GSU5",
        "colab_type": "code",
        "colab": {}
      },
      "cell_type": "code",
      "source": [
        "#Write your code here for Part 2. You are welcome add more cells."
      ],
      "execution_count": 0,
      "outputs": []
    },
    {
      "metadata": {
        "id": "XXTm3bmqHJY0",
        "colab_type": "code",
        "colab": {}
      },
      "cell_type": "code",
      "source": [
        "### DON'T MODIFY THIS CELL. USED FOR GRADING. ###\n",
        "interactions2 = load_interactions2('bc2_ips_pmid2ppi_train.txt')\n",
        "\n",
        "protein1 = 'YPL094C' \n",
        "protein2 = 'YPR086W' \n",
        "\n",
        "print(\"do \" + protein1 + \" protein \" + protein2 + \"interact? \" + interact2(interactions2, protein1, protein2)) \n",
        "print (\"the number of interactions of \" + protein1 + \" : \" + str(len(get_interactions2(interactions2, protein1)))) \n",
        "print(\"the average number of interactions per protein: \" + str(average_interactions2(interactions2)))"
      ],
      "execution_count": 0,
      "outputs": []
    },
    {
      "metadata": {
        "id": "JPGN2PT_ONd6",
        "colab_type": "text"
      },
      "cell_type": "markdown",
      "source": [
        "Compare the running times between your naive and dictionary-based implmentations above. You can use %%timeit and %timeit for measuring the running time of an entire cell and a single line, respectively (see here: https://ipython.readthedocs.io/en/stable/interactive/magics.html ). Briefly report what you find below."
      ]
    }
  ]
}