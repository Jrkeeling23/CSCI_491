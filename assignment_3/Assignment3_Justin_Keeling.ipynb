{
  "nbformat": 4,
  "nbformat_minor": 0,
  "metadata": {
    "colab": {
      "name": "Assignment3_Justin_Keeling.ipynb",
      "provenance": [],
      "collapsed_sections": []
    },
    "kernelspec": {
      "name": "python3",
      "display_name": "Python 3"
    },
    "accelerator": "TPU"
  },
  "cells": [
    {
      "cell_type": "markdown",
      "metadata": {
        "id": "lzo8YMyn04bR",
        "colab_type": "text"
      },
      "source": [
        "## Part 1\n",
        "\n",
        "The goal of this part is to explore some of the main [scikit-learn](http://scikit-learn.org/stable/index.html) tools on a single practical task: analysing a collection of text documents (newsgroups posts) on twenty different topics.\n",
        "\n",
        "In this section we will see how to:\n",
        "\n",
        "1. load the file contents and the categories\n",
        "2. extract feature vectors suitable for machine learning\n",
        "3. train a model to perform text classification\n",
        "4. evaluate the performance of the trained model\n"
      ]
    },
    {
      "cell_type": "markdown",
      "metadata": {
        "id": "xWLXr41H1kFz",
        "colab_type": "text"
      },
      "source": [
        "### Loading the 20 newsgroups dataset\n",
        "The 20 newsgroups dataset comprises around 20,000 newsgroups posts on 20 topics split in two subsets: one for training (or development) and the other one for testing (or for performance evaluation). \n",
        "\n",
        "In the following we will use the built-in dataset loader for 20 newsgroups from scikit-learn.\n",
        "\n",
        "The **sklearn.datasets.fetch_20newsgroups** function is a data fetching / caching functions that downloads the data archive from the original 20 newsgroups website, extracts the archive contents in a local folder and calls the **sklearn.datasets.load_files** on either the training or testing set folder, or both of them. Here, we are loading only 4 categories."
      ]
    },
    {
      "cell_type": "code",
      "metadata": {
        "id": "cUpQ5bYq2GMK",
        "colab_type": "code",
        "colab": {}
      },
      "source": [
        "cats = ['alt.atheism', 'talk.religion.misc', 'comp.graphics', 'sci.space'] #select only 4 categories for fast running times\n",
        "\n",
        "from sklearn.datasets import fetch_20newsgroups\n",
        "newsgroups_train = fetch_20newsgroups(subset='train', categories=cats, remove=('headers', 'footers', 'quotes'))\n"
      ],
      "execution_count": 0,
      "outputs": []
    },
    {
      "cell_type": "markdown",
      "metadata": {
        "id": "byNIxaqL2LyP",
        "colab_type": "text"
      },
      "source": [
        "We can now list the 4 categories as follows:"
      ]
    },
    {
      "cell_type": "code",
      "metadata": {
        "id": "LZORgv8ozwtR",
        "colab_type": "code",
        "outputId": "50616d5b-c456-47e0-f6da-02cc736348ff",
        "colab": {
          "base_uri": "https://localhost:8080/",
          "height": 34
        }
      },
      "source": [
        "\n",
        "print(newsgroups_train.target_names)"
      ],
      "execution_count": 660,
      "outputs": [
        {
          "output_type": "stream",
          "text": [
            "['alt.atheism', 'comp.graphics', 'sci.space', 'talk.religion.misc']\n"
          ],
          "name": "stdout"
        }
      ]
    },
    {
      "cell_type": "markdown",
      "metadata": {
        "id": "d-q-D5aP6JuR",
        "colab_type": "text"
      },
      "source": [
        "The real data lies in the **filenames** and **target** attributes. The target attribute is the integer index of the category:"
      ]
    },
    {
      "cell_type": "code",
      "metadata": {
        "id": "b4svhJW-6YEp",
        "colab_type": "code",
        "outputId": "435d8e1d-fddb-4dec-dd55-32a2e3b7c1cd",
        "colab": {
          "base_uri": "https://localhost:8080/",
          "height": 272
        }
      },
      "source": [
        "print(newsgroups_train.filenames[0]) #print the name of the first file\n",
        "print(newsgroups_train.data[0]) #print the text of the first example"
      ],
      "execution_count": 661,
      "outputs": [
        {
          "output_type": "stream",
          "text": [
            "/root/scikit_learn_data/20news_home/20news-bydate-train/comp.graphics/38816\n",
            "Hi,\n",
            "\n",
            "I've noticed that if you only save a model (with all your mapping planes\n",
            "positioned carefully) to a .3DS file that when you reload it after restarting\n",
            "3DS, they are given a default position and orientation.  But if you save\n",
            "to a .PRJ file their positions/orientation are preserved.  Does anyone\n",
            "know why this information is not stored in the .3DS file?  Nothing is\n",
            "explicitly said in the manual about saving texture rules in the .PRJ file. \n",
            "I'd like to be able to read the texture rule information, does anyone have \n",
            "the format for the .PRJ file?\n",
            "\n",
            "Is the .CEL file format available from somewhere?\n",
            "\n",
            "Rych\n"
          ],
          "name": "stdout"
        }
      ]
    },
    {
      "cell_type": "markdown",
      "metadata": {
        "id": "UUE3z92Z73xt",
        "colab_type": "text"
      },
      "source": [
        "### Converting text to vectors\n",
        "In order to feed machine learing models with the text data, one first need to turn the text into vectors of numerical values suitable for statistical analysis. This can be achieved with the utilities of the **sklearn.feature_extraction.text** as demonstrated in the following example.\n",
        "\n",
        "\n"
      ]
    },
    {
      "cell_type": "code",
      "metadata": {
        "id": "1Eb7r9SO8Y54",
        "colab_type": "code",
        "outputId": "acdc66e9-8941-4d17-dff7-d39450092305",
        "colab": {
          "base_uri": "https://localhost:8080/",
          "height": 34
        }
      },
      "source": [
        "from sklearn.feature_extraction.text import CountVectorizer #tokenizer\n",
        "vectorizer = CountVectorizer(stop_words='english') #remove english stop words\n",
        "vectors = vectorizer.fit_transform(newsgroups_train.data)\n",
        "print (vectors.shape) #print the size"
      ],
      "execution_count": 662,
      "outputs": [
        {
          "output_type": "stream",
          "text": [
            "(2034, 26576)\n"
          ],
          "name": "stdout"
        }
      ]
    },
    {
      "cell_type": "markdown",
      "metadata": {
        "id": "hKjFkDVW9R6N",
        "colab_type": "text"
      },
      "source": [
        "### Training a machine learining model and evaluate its performance\n",
        " Let’s use a multinomial Naive Bayes classifier as discussed in the class."
      ]
    },
    {
      "cell_type": "code",
      "metadata": {
        "id": "2VLmrBPW9e4-",
        "colab_type": "code",
        "outputId": "5eea500f-33e2-4e53-e4db-69a6700b85d4",
        "colab": {
          "base_uri": "https://localhost:8080/",
          "height": 34
        }
      },
      "source": [
        "from sklearn.naive_bayes import MultinomialNB\n",
        "\n",
        "clf = MultinomialNB()\n",
        "clf.fit(vectors, newsgroups_train.target)\n",
        "\n"
      ],
      "execution_count": 663,
      "outputs": [
        {
          "output_type": "execute_result",
          "data": {
            "text/plain": [
              "MultinomialNB(alpha=1.0, class_prior=None, fit_prior=True)"
            ]
          },
          "metadata": {
            "tags": []
          },
          "execution_count": 663
        }
      ]
    },
    {
      "cell_type": "markdown",
      "metadata": {
        "id": "IQXgKAlh96Ng",
        "colab_type": "text"
      },
      "source": [
        "Then let's print the F1 score on the test data."
      ]
    },
    {
      "cell_type": "code",
      "metadata": {
        "id": "Qv_ljFnG9tVD",
        "colab_type": "code",
        "outputId": "5fb40bf3-df77-44e7-f656-b716d1d852b7",
        "colab": {
          "base_uri": "https://localhost:8080/",
          "height": 340
        }
      },
      "source": [
        "from sklearn import metrics\n",
        "\n",
        "newsgroups_test = fetch_20newsgroups(subset='test', categories=cats, remove=('headers', 'footers', 'quotes'))  #test data\n",
        "vectors_test = vectorizer.transform(newsgroups_test.data)  #generate vectors from test data (using the same vectorizer)\n",
        "pred = clf.predict(vectors_test) #predict categories for the test data using the above trained classifier\n",
        "\n",
        "print(\"macro F1:\",metrics.f1_score(newsgroups_test.target, pred, average='macro'))\n",
        "print(\"micro F1:\",metrics.f1_score(newsgroups_test.target, pred, average='micro'))\n",
        "print(\"\\n\",metrics.classification_report(newsgroups_test.target, pred, target_names=newsgroups_test.target_names))\n",
        "cm = metrics.confusion_matrix(newsgroups_test.target, pred)\n",
        "print(\"Confusion Matrix:\\n\",cm)"
      ],
      "execution_count": 664,
      "outputs": [
        {
          "output_type": "stream",
          "text": [
            "macro F1: 0.7564987834068887\n",
            "micro F1: 0.7804878048780488\n",
            "\n",
            "                     precision    recall  f1-score   support\n",
            "\n",
            "       alt.atheism       0.65      0.71      0.68       319\n",
            "     comp.graphics       0.91      0.90      0.91       389\n",
            "         sci.space       0.82      0.87      0.85       394\n",
            "talk.religion.misc       0.66      0.53      0.59       251\n",
            "\n",
            "          accuracy                           0.78      1353\n",
            "         macro avg       0.76      0.76      0.76      1353\n",
            "      weighted avg       0.78      0.78      0.78      1353\n",
            "\n",
            "Confusion Matrix:\n",
            " [[226   7  28  58]\n",
            " [ 11 352  23   3]\n",
            " [ 24  19 344   7]\n",
            " [ 87   8  22 134]]\n"
          ],
          "name": "stdout"
        }
      ]
    },
    {
      "cell_type": "markdown",
      "metadata": {
        "id": "We7-mPb_CSDq",
        "colab_type": "text"
      },
      "source": [
        "Let’s take a look at what the most informative features are:"
      ]
    },
    {
      "cell_type": "code",
      "metadata": {
        "id": "QlWPqCedCbh3",
        "colab_type": "code",
        "outputId": "283e8668-234e-409a-a732-cb2bf819fec6",
        "colab": {
          "base_uri": "https://localhost:8080/",
          "height": 85
        }
      },
      "source": [
        "import numpy as np\n",
        "def show_top10(classifier, vectorizer, categories):\n",
        "  feature_names = np.asarray(vectorizer.get_feature_names())\n",
        "  for i, category in enumerate(categories):\n",
        "    top10 = np.argsort(classifier.coef_[i])[-10:]\n",
        "    print(\"%s: %s\" % (category, \" \".join(feature_names[top10])))\n",
        "\n",
        "show_top10(clf, vectorizer, newsgroups_train.target_names)"
      ],
      "execution_count": 665,
      "outputs": [
        {
          "output_type": "stream",
          "text": [
            "alt.atheism: like believe say atheism does just think don people god\n",
            "comp.graphics: software images files data use file jpeg edu graphics image\n",
            "sci.space: just shuttle time orbit data like earth launch nasa space\n",
            "talk.religion.misc: know say christian think just bible don jesus people god\n"
          ],
          "name": "stdout"
        }
      ]
    },
    {
      "cell_type": "markdown",
      "metadata": {
        "id": "SXgUMEq_uDpi",
        "colab_type": "text"
      },
      "source": [
        "Instead of train-test setup, you can also perform cross-validation (CV). Following code shows CV results using the train set (although you could do this with the complete dataset)."
      ]
    },
    {
      "cell_type": "code",
      "metadata": {
        "id": "PPKe9JDSmCCT",
        "colab_type": "code",
        "outputId": "a469c830-b539-4010-b590-365cd3e37824",
        "colab": {
          "base_uri": "https://localhost:8080/",
          "height": 34
        }
      },
      "source": [
        "from sklearn.model_selection  import cross_val_score\n",
        "cv_scores = cross_val_score(clf, vectors, newsgroups_train.target , cv=10, scoring=\"f1_macro\" )\n",
        "print(\"Avg. macro F1:\", np.mean(cv_scores))"
      ],
      "execution_count": 666,
      "outputs": [
        {
          "output_type": "stream",
          "text": [
            "Avg. macro F1: 0.8128198197572788\n"
          ],
          "name": "stdout"
        }
      ]
    },
    {
      "cell_type": "markdown",
      "metadata": {
        "id": "DVCZERLPdyYy",
        "colab_type": "text"
      },
      "source": [
        "## Part 2\n",
        "\n",
        "Ths goal of this part is to write your own code to train a model to classify the given test dataset using part 1 as inspiriation.\n",
        "\n",
        "First, upload the given dataset (\"diseases-train.csv\") using the following cell. It contains 900 scientific artciles (identified by their PubMed IDs) and their labels. This is a multi-class problem.\n",
        "\n"
      ]
    },
    {
      "cell_type": "code",
      "metadata": {
        "id": "_ru8k_nK05xu",
        "colab_type": "code",
        "outputId": "fe555f55-0830-4752-a67c-2e7fbf75c4f9",
        "colab": {
          "resources": {
            "http://localhost:8080/nbextensions/google.colab/files.js": {
              "data": "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",
              "ok": true,
              "headers": [
                [
                  "content-type",
                  "application/javascript"
                ]
              ],
              "status": 200,
              "status_text": ""
            }
          },
          "base_uri": "https://localhost:8080/",
          "height": 74
        }
      },
      "source": [
        "from google.colab import files\n",
        "uploaded = files.upload()"
      ],
      "execution_count": 667,
      "outputs": [
        {
          "output_type": "display_data",
          "data": {
            "text/html": [
              "\n",
              "     <input type=\"file\" id=\"files-fc6f5d00-15ae-4746-b522-f8a1a2467bcf\" name=\"files[]\" multiple disabled />\n",
              "     <output id=\"result-fc6f5d00-15ae-4746-b522-f8a1a2467bcf\">\n",
              "      Upload widget is only available when the cell has been executed in the\n",
              "      current browser session. Please rerun this cell to enable.\n",
              "      </output>\n",
              "      <script src=\"/nbextensions/google.colab/files.js\"></script> "
            ],
            "text/plain": [
              "<IPython.core.display.HTML object>"
            ]
          },
          "metadata": {
            "tags": []
          }
        },
        {
          "output_type": "stream",
          "text": [
            "Saving diseases-train.csv to diseases-train (3).csv\n"
          ],
          "name": "stdout"
        }
      ]
    },
    {
      "cell_type": "markdown",
      "metadata": {
        "id": "B5jGiZKlW9Xa",
        "colab_type": "text"
      },
      "source": [
        "Then load the CSV file using pandas as below. "
      ]
    },
    {
      "cell_type": "code",
      "metadata": {
        "id": "80IHoQzj42MC",
        "colab_type": "code",
        "colab": {}
      },
      "source": [
        "import pandas as pd\n",
        "df_train = pd.read_csv(\"diseases-train.csv\")"
      ],
      "execution_count": 0,
      "outputs": []
    },
    {
      "cell_type": "markdown",
      "metadata": {
        "id": "9wijrc25Y_tt",
        "colab_type": "text"
      },
      "source": [
        "Then you can iterate over the lines as follows. Each line has the format: pmid, category."
      ]
    },
    {
      "cell_type": "code",
      "metadata": {
        "id": "cyk6XDuCZITO",
        "colab_type": "code",
        "outputId": "e0615aef-972e-4b6e-b113-f237cd54373f",
        "colab": {
          "base_uri": "https://localhost:8080/",
          "height": 34
        }
      },
      "source": [
        "for index, row in df_train.iterrows():    \n",
        "    pmid = row[0]\n",
        "    print(pmid)\n",
        "    break"
      ],
      "execution_count": 669,
      "outputs": [
        {
          "output_type": "stream",
          "text": [
            "30141778\n"
          ],
          "name": "stdout"
        }
      ]
    },
    {
      "cell_type": "markdown",
      "metadata": {
        "id": "90r-99vPZTLh",
        "colab_type": "text"
      },
      "source": [
        "Then you can get the other information (i.e. title, abstract etc) associated with each of these articles using the [biopython](https://biopython.org/) library. First insatll the library as below."
      ]
    },
    {
      "cell_type": "code",
      "metadata": {
        "id": "5EV8JFxDgSoP",
        "colab_type": "code",
        "outputId": "4f8abcf1-d58a-4c55-9dad-d4edd3e256fe",
        "colab": {
          "base_uri": "https://localhost:8080/",
          "height": 51
        }
      },
      "source": [
        "!pip install biopython"
      ],
      "execution_count": 670,
      "outputs": [
        {
          "output_type": "stream",
          "text": [
            "Requirement already satisfied: biopython in /usr/local/lib/python3.6/dist-packages (1.74)\n",
            "Requirement already satisfied: numpy in /usr/local/lib/python3.6/dist-packages (from biopython) (1.16.5)\n"
          ],
          "name": "stdout"
        }
      ]
    },
    {
      "cell_type": "markdown",
      "metadata": {
        "id": "3Udn-Lu9alvC",
        "colab_type": "text"
      },
      "source": [
        "You can fetch the information for an article with the **eftech** function as below. Find more information [here](http://biopython.org/DIST/docs/tutorial/Tutorial.html#sec:efetch). \n",
        "\n",
        "(Note: You can search for pubmed articles using keywords using [esearch](http://biopython.org/DIST/docs/tutorial/Tutorial.html#htoc123). This may be useful for your projects.)"
      ]
    },
    {
      "cell_type": "code",
      "metadata": {
        "id": "uR1ekZbhat9r",
        "colab_type": "code",
        "colab": {
          "base_uri": "https://localhost:8080/",
          "height": 986
        },
        "outputId": "68a98c3b-523b-4a81-8649-c6ddf8e48f86"
      },
      "source": [
        "from Bio import Entrez\n",
        "Entrez.email = \"A.N.Other@example.com\"  # Always tell NCBI who you are\n",
        "handle = Entrez.efetch(db=\"pubmed\", id=pmid, rettype=\"medline\", retmode=\"text\")\n",
        "print(handle.read())"
      ],
      "execution_count": 671,
      "outputs": [
        {
          "output_type": "stream",
          "text": [
            "\n",
            "PMID- 30141778\n",
            "OWN - NLM\n",
            "STAT- MEDLINE\n",
            "DCOM- 20180904\n",
            "LR  - 20180904\n",
            "IS  - 1524-4725 (Electronic)\n",
            "IS  - 1076-0512 (Linking)\n",
            "VI  - 44\n",
            "IP  - 9\n",
            "DP  - 2018 Sep\n",
            "TI  - Inside \"Outside\" Job: Unexpected Geometric Skin Ulcerations Overlying Orthopedic \n",
            "      Hardware After Multimodal Laser Scar Revision.\n",
            "PG  - 1231-1233\n",
            "LID - 10.1097/DSS.0000000000001433 [doi]\n",
            "FAU - Borok, Jenna\n",
            "AU  - Borok J\n",
            "AD  - Division of Pediatric and Adolescent Dermatology, Rady Children's Hospital, San\n",
            "      Diego, California Department of Dermatology, University of California, Irvine\n",
            "      Irvine, California Department of Medicine, University of California, San Diego,\n",
            "      California DermOne, LLC, West Conshohocken, Pennsylvania.\n",
            "FAU - Ferris, Katherine\n",
            "AU  - Ferris K\n",
            "FAU - Vaux, Keith\n",
            "AU  - Vaux K\n",
            "FAU - Krakowski, Andrew C\n",
            "AU  - Krakowski AC\n",
            "LA  - eng\n",
            "PT  - Case Reports\n",
            "PT  - Journal Article\n",
            "PL  - United States\n",
            "TA  - Dermatol Surg\n",
            "JT  - Dermatologic surgery : official publication for American Society for Dermatologic\n",
            "      Surgery [et al.]\n",
            "JID - 9504371\n",
            "SB  - IM\n",
            "MH  - Cicatrix/*etiology/pathology/therapy\n",
            "MH  - Female\n",
            "MH  - Fibula/injuries\n",
            "MH  - Fracture Fixation, Internal/*adverse effects/*instrumentation\n",
            "MH  - Fractures, Bone/surgery\n",
            "MH  - Humans\n",
            "MH  - Internal Fixators/*adverse effects\n",
            "MH  - Laser Therapy/*adverse effects/methods\n",
            "MH  - Reoperation\n",
            "MH  - Skin Ulcer/*etiology/pathology/therapy\n",
            "EDAT- 2018/08/25 06:00\n",
            "MHDA- 2018/09/05 06:00\n",
            "CRDT- 2018/08/25 06:00\n",
            "PHST- 2018/08/25 06:00 [entrez]\n",
            "PHST- 2018/08/25 06:00 [pubmed]\n",
            "PHST- 2018/09/05 06:00 [medline]\n",
            "AID - 10.1097/DSS.0000000000001433 [doi]\n",
            "AID - 00042728-201809000-00013 [pii]\n",
            "PST - ppublish\n",
            "SO  - Dermatol Surg. 2018 Sep;44(9):1231-1233. doi: 10.1097/DSS.0000000000001433.\n",
            "\n"
          ],
          "name": "stdout"
        }
      ]
    },
    {
      "cell_type": "markdown",
      "metadata": {
        "id": "TcY9zW1tbgf_",
        "colab_type": "text"
      },
      "source": [
        "The decription of the medline format is [here](https://www.nlm.nih.gov/bsd/disted/pubmedtutorial/030_080.html). You can parse this *handle* using the **Medline.parse** function. More informaton is [here](https://biopython.org/DIST/docs/api/Bio.Medline-module.html).\n",
        "\n",
        "Once you grab enough information about each article from pubmed, your task is to train a model uisng the given data and make predictions for the articles in test data (\"diseases-test-without-labels.csv\"). In order to find the best parameter values for your models, you will split the given data into train-1 and train-2. Then you will use train-1 to train your models and train-2 to test your models (typically, train-2 is called the dev set or validation set). This way, you are able to find the best model for making final predictions. \n",
        "\n",
        "You can add one more code/text blocks for answering the follwoing.\n",
        "\n"
      ]
    },
    {
      "cell_type": "code",
      "metadata": {
        "id": "GEhZmk4_5zaM",
        "colab_type": "code",
        "colab": {
          "base_uri": "https://localhost:8080/",
          "height": 119
        },
        "outputId": "63a18eee-4f1a-4608-d55c-24225a08cf09"
      },
      "source": [
        "# block for needed imports\n",
        "### Basically, if the imports above are not considered to be part of y\n",
        "from Bio import Medline\n",
        "from Bio import Entrez\n",
        "import matplotlib.pyplot as plt \n",
        "import nltk\n",
        "from nltk.stem.wordnet import WordNetLemmatizer\n",
        "from nltk.corpus.reader.wordnet import NOUN\n",
        "from nltk.stem.api import StemmerI\n",
        "from nltk.stem import LancasterStemmer\n",
        "from nltk.corpus import stopwords \n",
        "from nltk.tokenize import RegexpTokenizer \n",
        "from sklearn import metrics\n",
        "from sklearn.neighbors import KNeighborsClassifier\n",
        "import numpy as np\n",
        "import pandas as pd\n",
        "tokens = RegexpTokenizer('\\w+')\n",
        "nltk.download('wordnet')\n",
        "nltk.download('punkt')\n",
        "nltk.download('stopwords')\n",
        "lemmatizer = WordNetLemmatizer()\n",
        "stemmer = LancasterStemmer()"
      ],
      "execution_count": 672,
      "outputs": [
        {
          "output_type": "stream",
          "text": [
            "[nltk_data] Downloading package wordnet to /root/nltk_data...\n",
            "[nltk_data]   Package wordnet is already up-to-date!\n",
            "[nltk_data] Downloading package punkt to /root/nltk_data...\n",
            "[nltk_data]   Package punkt is already up-to-date!\n",
            "[nltk_data] Downloading package stopwords to /root/nltk_data...\n",
            "[nltk_data]   Package stopwords is already up-to-date!\n"
          ],
          "name": "stdout"
        }
      ]
    },
    {
      "cell_type": "code",
      "metadata": {
        "id": "Q2JPcfEM6PBI",
        "colab_type": "code",
        "colab": {}
      },
      "source": [
        "def print_table(distributions, prob, objects, size, name):\n",
        "  header = None\n",
        "  incr1 = None\n",
        "  sep = \"-\"\n",
        "  for i in range(len(objects)):  # ALL parameters are same length, iterate through range to access all\n",
        "    if i is 0:  # setup header & spacers\n",
        "      label = \"Class Label\" + ' '*12 + \"Frequency\" +' '*12 + \"Probability\"\n",
        "      incr1 = len(\"Class Label\")\n",
        "      header = '_'*len(label)\n",
        "      print(' '*(len(header)- len(name))+name)\n",
        "      print(header, '\\n'+label,'\\n'+label, '\\n'+header,'\\n')\n",
        "\n",
        "    # gets data for each iteration\n",
        "    label = objects[i] \n",
        "    dif = (incr1+12)-len(label)+len(str(distributions[i]))  # calculate difference by header\n",
        "    label += sep*dif +str(distributions[i])\n",
        "    dif = len(header)-len(label)-len(str(prob[i])+'%') # calculate difference by header and current label string\n",
        "    label+=sep*dif+prob[i]+'%'\n",
        "    print(label)\n",
        "  print(header , '\\n'+header)\n",
        "  if (name is not 'df_train'):\n",
        "    print('\\nPercent of df_train '+ '-'*(len(header)-len('Percent of df_train %')-len(str(size/900*100)))+' '+str(size/900*100)+'%')\n",
        "  print(\"Total data: \" + '-'*(len(header)-len(\"Total data:  \")- len(str(size))) + ' '+ str(size), '\\n'+header,'\\n'*2)\n",
        "    \n",
        "    "
      ],
      "execution_count": 0,
      "outputs": []
    },
    {
      "cell_type": "code",
      "metadata": {
        "id": "eNskw0Gk6TRR",
        "colab_type": "code",
        "colab": {}
      },
      "source": [
        "def make_chart(data_set, name):\n",
        "  dist_dict = {}  # key:val = class label : occurance\n",
        "  objects = ()  # contains labels\n",
        "  distributions = []  # contains label distributions\n",
        "  prob = []\n",
        "  for label in data_set['category']:\n",
        "    if label in dist_dict.keys():\n",
        "      dist_dict[label] += 1  # add one to occurences\n",
        "    else:\n",
        "      dist_dict[label] = 1  # one occurence\n",
        "  total_data = data_set.shape[0]  # number of data points\n",
        "  \n",
        "  for key,value in dist_dict.items():  # find probabilities and get labels\n",
        "    prob.append(format((value/total_data*100), '.4f'))\n",
        "    objects += (key,)\n",
        "    distributions.append(value)\n",
        "    y_pos = np.arange(len(objects))\n",
        "    \n",
        "  # create more defined bar chart by changing y limit\n",
        "  low = min(distributions)\n",
        "  high = max(distributions)\n",
        "  plt.ylim((low-(high-low)),high)  # display distibution more clearly\n",
        "  test = plt.bar(y_pos, distributions, align='center', alpha=0.5)\n",
        "  plt.xticks(y_pos, objects)\n",
        "  plt.ylabel('Occurences')\n",
        "  plt.title(name + ' Distibutions')\n",
        "  plt.show()\n",
        "  print()\n",
        "  print_table(distributions,prob,objects, len(data_set), name)  # prints table of class lable data\n",
        "    "
      ],
      "execution_count": 0,
      "outputs": []
    },
    {
      "cell_type": "code",
      "metadata": {
        "id": "Ndc8FGxN6Z6S",
        "colab_type": "code",
        "colab": {}
      },
      "source": [
        "\n",
        "    \n",
        "def stem_lemm(token, stop, action):\n",
        "  ws = ''\n",
        "  for word in token:  # iterate through each word from token\n",
        "    if word not in stop:  # remove stop words\n",
        "      if action is 'lem':\n",
        "        stem_word = stemmer.stem(word)\n",
        "        ws+=stem_word + ' '  # concatenate to a string of all words\n",
        "\n",
        "      else:\n",
        "        lemma_word = lemmatizer.lemmatize(word)\n",
        "        ws+=lemma_word + ' '  # concatenate to a string of all words\n",
        "  return ws\n"
      ],
      "execution_count": 0,
      "outputs": []
    },
    {
      "cell_type": "code",
      "metadata": {
        "id": "5BMdPxoD6a_m",
        "colab_type": "code",
        "colab": {}
      },
      "source": [
        "def get_tokens(in_data, status):\n",
        "  if not status is 'labels':\n",
        "    return get_tokens_test(in_data)\n",
        "  else:\n",
        "    return get_tokens_train(in_data)\n",
        "  "
      ],
      "execution_count": 0,
      "outputs": []
    },
    {
      "cell_type": "code",
      "metadata": {
        "id": "7EX7fb48EWt9",
        "colab_type": "code",
        "colab": {}
      },
      "source": [
        "def get_tokens_test(in_data):\n",
        "  stop_words = set(stopwords.words('english'))   # stop words to get  rid of\n",
        "  data_l = []  # append report strings \n",
        "  for pmid in in_data['pmid']: # iterate through each example\n",
        "    Entrez.email = \"Jrkeeling23@gmail.com\"\n",
        "    handle = Entrez.efetch(db=\"pubmed\", id=pmid, rettype=\"medline\", retmode=\"text\")\n",
        "    parse = Medline.parse(handle)\n",
        "    for record in parse:  # iterate through report data\n",
        "      if 'TI' in record.keys():  # check if TI is in data\n",
        "        data_token = tokens.tokenize(record['TI'])\n",
        "        data_l.append(stem_lemm(data_token, stop_words, 'stem'))  # append stemmed and lemmatized data\n",
        "  return data_l"
      ],
      "execution_count": 0,
      "outputs": []
    },
    {
      "cell_type": "code",
      "metadata": {
        "id": "41gC3OCkE4Cs",
        "colab_type": "code",
        "colab": {}
      },
      "source": [
        "def get_tokens_train(in_data):\n",
        "  stop_words = set(stopwords.words('english'))   # stop words to get  rid of\n",
        "  data_l = []  # append report strings \n",
        "  labels = []  # holds labels in parallel to data_l strings\n",
        "  \n",
        "  for i, row in in_data.iterrows(): # iterate through each example\n",
        "    Entrez.email = \"Jrkeeling23@gmail.com\"\n",
        "    handle = Entrez.efetch(db=\"pubmed\", id=row['pmid'], rettype=\"medline\", retmode=\"text\")\n",
        "    parse = Medline.parse(handle)\n",
        "    for record in parse:  # iterate through report data\n",
        "      if 'TI' in record.keys():  # check if TI is in data\n",
        "        labels.append(row['category'])\n",
        "        data_token = tokens.tokenize(record['TI'])\n",
        "        data_l.append(stem_lemm(data_token, stop_words, 'stem'))  # append stemmed and lemmatized data\n",
        "  return data_l, labels"
      ],
      "execution_count": 0,
      "outputs": []
    },
    {
      "cell_type": "code",
      "metadata": {
        "id": "ele4P1U86mhB",
        "colab_type": "code",
        "colab": {}
      },
      "source": [
        "def feature_model():\n",
        "  return CountVectorizer(stop_words='english', max_df=.9) #remove english stop words\n",
        "  \n",
        "def vectorize(in_data1, in_data2, fm):\n",
        "  vector = fm.fit_transform(in_data1)\n",
        "  vectors_test = fm.transform(in_data2)  #generate vectors from test data (using the same vectorizer)\n",
        "  return vector, vectors_test\n"
      ],
      "execution_count": 0,
      "outputs": []
    },
    {
      "cell_type": "code",
      "metadata": {
        "id": "vUIVyCj398PK",
        "colab_type": "code",
        "colab": {}
      },
      "source": [
        "def perform_NB(in_labels1, in_labels2, vector, vectors_test):\n",
        "  clf = MultinomialNB(alpha =1, fit_prior=False)\n",
        "  clf.fit(vector, in_labels1)  # associate labels with vector\n",
        "  pred = clf.predict(vectors_test) #predict categories for the test data using the above trained classifier\n",
        "  # print stats\n",
        "  if in_labels2 is not '':\n",
        "    print(\"macro F1:\",metrics.f1_score(in_labels2, pred, average='macro'))\n",
        "    print(\"micro F1:\",metrics.f1_score(in_labels2, pred, average='micro'))\n",
        "    print(\"\\n\",metrics.classification_report(in_labels2, pred))\n",
        "    cm = metrics.confusion_matrix(in_labels2, pred)\n",
        "    print(\"Confusion Matrix:\\n\",cm)\n",
        "    return metrics.classification_report(in_labels2, pred, output_dict=True)\n",
        "  else:\n",
        "    return pred\n",
        "  \n",
        "  "
      ],
      "execution_count": 0,
      "outputs": []
    },
    {
      "cell_type": "code",
      "metadata": {
        "id": "VSku6DyG6uam",
        "colab_type": "code",
        "colab": {}
      },
      "source": [
        "def knn(in_data1, in_data2, in_labels1, in_labels2):\n",
        "  vectorizer = CountVectorizer(stop_words='english', max_df=.3) #remove english stop words\n",
        "  vector = vectorizer.fit_transform(in_data1)\n",
        "  clf.fit(vector, in_labels1)\n",
        "  knn = KNeighborsClassifier(n_neighbors=3, algorithm='brute', weights=\"distance\")\n",
        "  knn.fit(vector, in_labels1)\n",
        "  vectors_test = vectorizer.transform(in_data2)  #generate vectors from test data (using the same vectorizer)\n",
        "  pred = knn.predict(vectors_test)\n",
        "\n",
        "  return metrics.classification_report(in_labels2, pred, output_dict=True)"
      ],
      "execution_count": 0,
      "outputs": []
    },
    {
      "cell_type": "code",
      "metadata": {
        "id": "TMixyXSA7A8U",
        "colab_type": "code",
        "colab": {}
      },
      "source": [
        "def make_f1_chart(nb, kn):\n",
        "  bar_width=0.35  \n",
        "  knn_score = []  # keep scores of nb\n",
        "  nb_score = []  # keep scores of knn\n",
        "  lab = list(nb.keys())[:4]  # get categories\n",
        "  groups = len(lab) # size of index\n",
        "\n",
        "  for l in lab:\n",
        "    knn_score.append((kn[l]['f1-score']))  # assign scores\n",
        "    nb_score.append((nb[l]['f1-score']))\n",
        "    \n",
        "\n",
        "  bar1 = plt.bar(np.arange(groups),nb_score,bar_width, color='b',label='NB')\n",
        "  bar1 = plt.bar(np.arange(groups)+bar_width,knn_score,bar_width, color='r',label='KNN')\n",
        "\n",
        "  plt.xlabel('Model')\n",
        "  plt.ylabel('F1 Scores')\n",
        "  plt.title('Scores by Model')\n",
        "  plt.xticks(np.arange(groups)+bar_width,tuple(lab))\n",
        "  plt.legend()\n",
        "  plt.tight_layout()\n",
        "  plt.show()"
      ],
      "execution_count": 0,
      "outputs": []
    },
    {
      "cell_type": "code",
      "metadata": {
        "id": "CgeljXMxV0hE",
        "colab_type": "code",
        "colab": {}
      },
      "source": [
        "def make_f1_chart_nb(nb):\n",
        "  bar_width=0.35  \n",
        "  knn_score = []  # keep scores of nb\n",
        "  nb_score = []  # keep scores of knn\n",
        "  lab = list(nb.keys())[:4]  # get categories\n",
        "  groups = len(lab) # size of index\n",
        "\n",
        "  for l in lab:\n",
        "    nb_score.append((nb[l]['f1-score']))\n",
        "    \n",
        "\n",
        "  bar1 = plt.bar(np.arange(groups),nb_score,bar_width, color='b',label='NB')\n",
        "\n",
        "  plt.xlabel('Model')\n",
        "  plt.ylabel('F1 Scores')\n",
        "  plt.title('Scores by Model')\n",
        "  plt.xticks(np.arange(groups)+bar_width,tuple(lab))\n",
        "  plt.legend()\n",
        "  plt.tight_layout()\n",
        "  plt.show()"
      ],
      "execution_count": 0,
      "outputs": []
    },
    {
      "cell_type": "markdown",
      "metadata": {
        "id": "H9No8gvCdXv1",
        "colab_type": "text"
      },
      "source": [
        "1. Details about datasets: What is the label distribution in the full dataset? What are the sizes of train-1 and train-2 datasets you used (and their individual label distriutions)? Also, show the distribution(s) visually.\n",
        "\n",
        "(Note: you can create bar plots or pie charts using the following:\n",
        "[matplotlib.pyplot.bar](https://matplotlib.org/api/_as_gen/matplotlib.pyplot.bar.html), \n",
        "[matplotlib.pyplot.pie](https://matplotlib.org/api/_as_gen/matplotlib.pyplot.pie.html)) \n"
      ]
    },
    {
      "cell_type": "markdown",
      "metadata": {
        "id": "k79ygLQwVQfG",
        "colab_type": "text"
      },
      "source": [
        "The graphs portray the distibution (221, 225, 227, 227 to Skin,Eye, Brain, Heart diseases respectively). The distributuions are going to be random for each train1 and train2 because the data is randomly  split. \n",
        "The sizes of train1 and train2 are also in the table  under the graphs. (But they are train1 80% and train2 20%)"
      ]
    },
    {
      "cell_type": "markdown",
      "metadata": {
        "id": "OimZrY6HTq2t",
        "colab_type": "text"
      },
      "source": [
        ""
      ]
    },
    {
      "cell_type": "code",
      "metadata": {
        "id": "oQndyTPFEv1q",
        "colab_type": "code",
        "colab": {
          "base_uri": "https://localhost:8080/",
          "height": 1000
        },
        "outputId": "cac07894-7619-4595-e567-d01568620670"
      },
      "source": [
        "train1, train2 = np.split(df_train.sample(frac=1), [int(.8 * len(df_train))])\n",
        "\n",
        "make_chart(df_train, 'df_train')\n",
        "make_chart(train1, 'test1')\n",
        "make_chart(train2, 'test2')"
      ],
      "execution_count": 684,
      "outputs": [
        {
          "output_type": "display_data",
          "data": {
            "image/png": "[encoded data removed]",
            "text/plain": [
              "<Figure size 432x288 with 1 Axes>"
            ]
          },
          "metadata": {
            "tags": []
          }
        },
        {
          "output_type": "stream",
          "text": [
            "\n",
            "                                               df_train\n",
            "_______________________________________________________ \n",
            "Class Label            Frequency            Probability \n",
            "Class Label            Frequency            Probability \n",
            "_______________________________________________________ \n",
            "\n",
            "Skin Diseases-------------221------------------24.5556%\n",
            "Eye Diseases--------------225------------------25.0000%\n",
            "Brain Diseases------------227------------------25.2222%\n",
            "Heart Diseases------------227------------------25.2222%\n",
            "_______________________________________________________ \n",
            "_______________________________________________________\n",
            "Total data: --------------------------------------- 900 \n",
            "_______________________________________________________ \n",
            "\n",
            "\n"
          ],
          "name": "stdout"
        },
        {
          "output_type": "display_data",
          "data": {
            "image/png": "[encoded data removed]",
            "text/plain": [
              "<Figure size 432x288 with 1 Axes>"
            ]
          },
          "metadata": {
            "tags": []
          }
        },
        {
          "output_type": "stream",
          "text": [
            "\n",
            "                                                  test1\n",
            "_______________________________________________________ \n",
            "Class Label            Frequency            Probability \n",
            "Class Label            Frequency            Probability \n",
            "_______________________________________________________ \n",
            "\n",
            "Eye Diseases--------------175------------------24.3056%\n",
            "Heart Diseases------------182------------------25.2778%\n",
            "Brain Diseases------------183------------------25.4167%\n",
            "Skin Diseases-------------180------------------25.0000%\n",
            "_______________________________________________________ \n",
            "_______________________________________________________\n",
            "\n",
            "Percent of df_train ------------------------------ 80.0%\n",
            "Total data: --------------------------------------- 720 \n",
            "_______________________________________________________ \n",
            "\n",
            "\n"
          ],
          "name": "stdout"
        },
        {
          "output_type": "display_data",
          "data": {
            "image/png": "[encoded data removed]",
            "text/plain": [
              "<Figure size 432x288 with 1 Axes>"
            ]
          },
          "metadata": {
            "tags": []
          }
        },
        {
          "output_type": "stream",
          "text": [
            "\n",
            "                                                  test2\n",
            "_______________________________________________________ \n",
            "Class Label            Frequency            Probability \n",
            "Class Label            Frequency            Probability \n",
            "_______________________________________________________ \n",
            "\n",
            "Brain Diseases-----------44--------------------24.4444%\n",
            "Heart Diseases-----------45--------------------25.0000%\n",
            "Skin Diseases------------41--------------------22.7778%\n",
            "Eye Diseases-------------50--------------------27.7778%\n",
            "_______________________________________________________ \n",
            "_______________________________________________________\n",
            "\n",
            "Percent of df_train ------------------------------ 20.0%\n",
            "Total data: --------------------------------------- 180 \n",
            "_______________________________________________________ \n",
            "\n",
            "\n"
          ],
          "name": "stdout"
        }
      ]
    },
    {
      "cell_type": "markdown",
      "metadata": {
        "id": "m0BB-Y5jskIR",
        "colab_type": "text"
      },
      "source": [
        "2. Data preprocessing:\n",
        "How did you preprocess you data? You can do stemming/lemmatization using [NLTK](https://www.nltk.org/) library:\n",
        "[stemming](https://www.nltk.org/api/nltk.stem.html), \n",
        "[lemmatization](https://www.nltk.org/_modules/nltk/stem/wordnet.html). Make sure to apply the same pre-processing to both train-1 and train-2.\n"
      ]
    },
    {
      "cell_type": "markdown",
      "metadata": {
        "id": "mx7kyWI4Uacv",
        "colab_type": "text"
      },
      "source": [
        "For my pre processing, I tried both lemmatization and stemming. I also added in a set of stop words which if the report contains them, they are eliminated them from the report. \n",
        "Also, after analyzing how the Pubmed documents are structured, I based the premise of what data to take from the 'TI' section. \n",
        "This is an approach I took after using all the data; which had a worse score typically."
      ]
    },
    {
      "cell_type": "code",
      "metadata": {
        "id": "rfAxg09KTUMI",
        "colab_type": "code",
        "colab": {}
      },
      "source": [
        "proccessed_train1, t1_labels = get_tokens(train1, 'labels')\n",
        "proccessed_train2, t2_labels = get_tokens(train2, 'labels')"
      ],
      "execution_count": 0,
      "outputs": []
    },
    {
      "cell_type": "markdown",
      "metadata": {
        "id": "5SU27Xt2vQAH",
        "colab_type": "text"
      },
      "source": [
        "3. Features used:\n",
        "What feature model was used? Chekout all the options for [CountVectorizer](http://scikit-learn.org/stable/modules/generated/sklearn.feature_extraction.text.CountVectorizer.html). Also, instead of the Bag-of-words (CountVectorizer) model you can optionally use [TfidfVectorizer](http://scikit-learn.org/stable/modules/generated/sklearn.feature_extraction.text.TfidfVectorizer.html). You can read more about both these approches [here](http://scikit-learn.org/stable/modules/feature_extraction.html#text-feature-extraction). Regarless of the Vectorizer used, list all paramer values you used.\n"
      ]
    },
    {
      "cell_type": "markdown",
      "metadata": {
        "id": "M41ROxV5X3r9",
        "colab_type": "text"
      },
      "source": [
        "The feature model I use is CounterVectotizer. This contains, as parameters, a stop words and a max_df. The max_df ignores words that appear in a specified percentage of the data.\n"
      ]
    },
    {
      "cell_type": "code",
      "metadata": {
        "id": "MNiL7pxCOVfe",
        "colab_type": "code",
        "colab": {}
      },
      "source": [
        "fm = feature_model()  # get instance of CounterVectorizer\n",
        "vector, vector_test = vectorize(proccessed_train1, proccessed_train2, fm)  # get vectors\n",
        "\n"
      ],
      "execution_count": 0,
      "outputs": []
    },
    {
      "cell_type": "markdown",
      "metadata": {
        "id": "XgFJcO6gwVqJ",
        "colab_type": "text"
      },
      "source": [
        "4. NB Model performance:\n",
        "Report the performance values using Naive Bayes here. What is represented by *alpha* and *fit_prior* parameters? What value pair for *alpha* (try 0.0 or 1.0) and *fit_prior* (try True or False) parameters gives you the best overall performance in terms of macro-avreaged F1 (train using train-1 and test using train-2). For the best performing model, show confusion matrix. Show individual F1 values for each category in a bar chart. What are the categories that are easiest/ hardest to predict?\n",
        "\n"
      ]
    },
    {
      "cell_type": "markdown",
      "metadata": {
        "id": "Qm3X1MmdU8Tn",
        "colab_type": "text"
      },
      "source": [
        "\n",
        "I have kept these values below.\n",
        "Using alpha=1 is better in terms of macro average.\n",
        "Using fit_prior False works better regarding macro average\n",
        "The hardest to predict seem to be Skin diseases and Brain Diseases, while the other two are most easy. "
      ]
    },
    {
      "cell_type": "code",
      "metadata": {
        "id": "0Ht-ATt1DS1t",
        "colab_type": "code",
        "colab": {
          "base_uri": "https://localhost:8080/",
          "height": 620
        },
        "outputId": "52c6bcbf-c6fb-497b-90af-d1f3387adfd3"
      },
      "source": [
        "nb_data = perform_NB(t1_labels, t2_labels, vector, vector_test)  # get NB stats\n",
        "make_f1_chart_nb(nb_data)"
      ],
      "execution_count": 687,
      "outputs": [
        {
          "output_type": "stream",
          "text": [
            "macro F1: 0.6567348146926649\n",
            "micro F1: 0.6666666666666666\n",
            "\n",
            "                 precision    recall  f1-score   support\n",
            "\n",
            "Brain Diseases       0.69      0.70      0.70        44\n",
            "  Eye Diseases       0.74      0.62      0.67        50\n",
            "Heart Diseases       0.64      0.87      0.74        45\n",
            " Skin Diseases       0.59      0.46      0.52        41\n",
            "\n",
            "      accuracy                           0.67       180\n",
            "     macro avg       0.67      0.66      0.66       180\n",
            "  weighted avg       0.67      0.67      0.66       180\n",
            "\n",
            "Confusion Matrix:\n",
            " [[31  3  5  5]\n",
            " [ 6 31  7  6]\n",
            " [ 4  0 39  2]\n",
            " [ 4  8 10 19]]\n"
          ],
          "name": "stdout"
        },
        {
          "output_type": "display_data",
          "data": {
            "image/png": "[encoded data removed]",
            "text/plain": [
              "<Figure size 432x288 with 1 Axes>"
            ]
          },
          "metadata": {
            "tags": []
          }
        }
      ]
    },
    {
      "cell_type": "markdown",
      "metadata": {
        "colab_type": "text",
        "id": "tGC-5yYqVTX2"
      },
      "source": [
        "5. Other Model performance:\n",
        "Comapre NB performance to at least one other model mentioned in the class (e.g. KNN). Which model did you pick? List all parameter values you selected. Show the individual F1 values for each category for the two models side-by-side in a bar chart.\n",
        "\n"
      ]
    },
    {
      "cell_type": "code",
      "metadata": {
        "id": "hgxWsFMYZNxt",
        "colab_type": "code",
        "colab": {
          "base_uri": "https://localhost:8080/",
          "height": 297
        },
        "outputId": "cb8bcdfa-0b68-4261-e6a5-f252ba022c86"
      },
      "source": [
        "knn_data = knn(proccessed_train1, proccessed_train2, t1_labels, t2_labels)\n",
        "make_f1_chart(nb_data, knn_data)"
      ],
      "execution_count": 688,
      "outputs": [
        {
          "output_type": "display_data",
          "data": {
            "image/png": "[encoded data removed]",
            "text/plain": [
              "<Figure size 432x288 with 1 Axes>"
            ]
          },
          "metadata": {
            "tags": []
          }
        }
      ]
    },
    {
      "cell_type": "markdown",
      "metadata": {
        "id": "hGi-B9xNS38E",
        "colab_type": "text"
      },
      "source": [
        "I used KNN. For the parameters I used the brute force algorithm and weighted the data based off of distance from the query point. \n",
        "I also changed the vectorizer for the data. By using the max_df, I eliminated words that only appeared in 70% of the data. \n",
        "\n",
        "\n"
      ]
    },
    {
      "cell_type": "markdown",
      "metadata": {
        "id": "_FWQcjFjWNww",
        "colab_type": "text"
      },
      "source": [
        "6. Predict the categories for articles in the given test data set (\"diseases-test-without-labels.csv\"). Save the predictions into \"diseases-test-preds.csv\" (it should have the exact same format as the \"diseases-train.csv\" file) and upload along with the completed ipynb file. We will use your generated \"diseases-test-preds.csv\" file for evaluting the final perforamnce of your code (using macro-averaged F1). \n",
        "\n",
        "The three best performing submissions on test data will get **bonus points** (5% of the assignment grade for the 1st place, 3% for 2nd, and 2% for 3rd). The winner will be annouced in the class afther final evalution."
      ]
    },
    {
      "cell_type": "code",
      "metadata": {
        "id": "3AYTjTgc0MPp",
        "colab_type": "code",
        "colab": {
          "resources": {
            "http://localhost:8080/nbextensions/google.colab/files.js": {
              "data": "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",
              "ok": true,
              "headers": [
                [
                  "content-type",
                  "application/javascript"
                ]
              ],
              "status": 200,
              "status_text": ""
            }
          },
          "base_uri": "https://localhost:8080/",
          "height": 74
        },
        "outputId": "1329f22d-6fc7-40c1-bf92-af1876ec96ba"
      },
      "source": [
        "train_upload = files.upload()\n",
        "  "
      ],
      "execution_count": 691,
      "outputs": [
        {
          "output_type": "display_data",
          "data": {
            "text/html": [
              "\n",
              "     <input type=\"file\" id=\"files-4205550f-8314-4dd6-8d9b-e18ba4c1ac79\" name=\"files[]\" multiple disabled />\n",
              "     <output id=\"result-4205550f-8314-4dd6-8d9b-e18ba4c1ac79\">\n",
              "      Upload widget is only available when the cell has been executed in the\n",
              "      current browser session. Please rerun this cell to enable.\n",
              "      </output>\n",
              "      <script src=\"/nbextensions/google.colab/files.js\"></script> "
            ],
            "text/plain": [
              "<IPython.core.display.HTML object>"
            ]
          },
          "metadata": {
            "tags": []
          }
        },
        {
          "output_type": "stream",
          "text": [
            "Saving diseases-test-without-labels.csv to diseases-test-without-labels (1).csv\n"
          ],
          "name": "stdout"
        }
      ]
    },
    {
      "cell_type": "code",
      "metadata": {
        "id": "cJNV_7gNKuGH",
        "colab_type": "code",
        "colab": {}
      },
      "source": [
        "df_test = pd.read_csv(\"diseases-test-without-labels.csv\")\n",
        "train, train_l =  get_tokens(df_train, 'labels')"
      ],
      "execution_count": 0,
      "outputs": []
    },
    {
      "cell_type": "code",
      "metadata": {
        "id": "s7TeerkF0t_o",
        "colab_type": "code",
        "colab": {}
      },
      "source": [
        "\n",
        "test = get_tokens(df_test, 'no_labels')\n",
        "fm = feature_model()\n",
        "v1, v2 = vectorize(train,test, fm)\n",
        "predicted = perform_NB(train_l,'',v1, v2)\n",
        "pred = {}\n",
        "pred['pmid'] = predicted\n",
        "pred = pd.DataFrame(pred)\n",
        "pred.to_csv(\"diseases-test-preds.csv\")\n",
        "  "
      ],
      "execution_count": 0,
      "outputs": []
    },
    {
      "cell_type": "code",
      "metadata": {
        "id": "LNek2Clb5nfW",
        "colab_type": "code",
        "colab": {}
      },
      "source": [
        ""
      ],
      "execution_count": 0,
      "outputs": []
    }
  ]
}